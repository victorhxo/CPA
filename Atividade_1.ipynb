{
  "cells": [
    {
      "cell_type": "markdown",
      "metadata": {
        "id": "view-in-github",
        "colab_type": "text"
      },
      "source": [
        "<a href=\"https://colab.research.google.com/github/victorhxo/CPA/blob/main/Atividade_1.ipynb\" target=\"_parent\"><img src=\"https://colab.research.google.com/assets/colab-badge.svg\" alt=\"Open In Colab\"/></a>"
      ]
    },
    {
      "cell_type": "markdown",
      "metadata": {
        "id": "XAdlKnDBj5uB"
      },
      "source": [
        "# EFC1 GCC253 - Complexidade e Projeto de Algoritmos - 5 pontos.\n",
        "\n",
        "\n",
        "> **Prof.: Douglas H. S. Abreu**\n",
        "\n",
        "\n",
        "**Alunos e Matricula**:\n",
        "\n",
        "Henrique Curi de Miranda – 202020087\n",
        "\n",
        "João Gabriel Kondarzewski Zanella – 202020091\n",
        "\n",
        "Nathan Felipe de Assis Pereira – 202020774\n",
        "\n",
        "Victor Gonçalves Lima – 202020775\n",
        "\n",
        "Victor Hugo Xavier de Oliveira – 202020367\n",
        "\n",
        "\n",
        "**Turma**: 10A, 14A\n",
        "\n",
        "Link do repositório GitHub: \n",
        "\n",
        "● O trabalho deve ser feito em grupos de no máximo 4 componentes (Apenas um deve enviar a atividade no Campus Virtual)\n",
        "\n",
        "● Trabalhos entregues após a data limite não serão aceitos\n",
        "\n",
        "● Data limite de entrega: 20 de Novembro de 2022 : 23h55m\n",
        "\n",
        "● Enviar o trabalho para o campus virtual, do seguinte modo: link do repositório GitHub com acesso ao Notebook.\n",
        "\n",
        "● O trabalho deve ser desenvolvido no modelo Notebook utilizando preferencialmente a linguagem Python"
      ]
    },
    {
      "cell_type": "markdown",
      "metadata": {
        "id": "J3d6JlRUxREN"
      },
      "source": [
        "# Importações e Variáveis globais"
      ]
    },
    {
      "cell_type": "code",
      "execution_count": null,
      "metadata": {
        "id": "Ur1DVGQAxac4"
      },
      "outputs": [],
      "source": [
        "import numpy as np\n",
        "\n",
        "começo = 0"
      ]
    },
    {
      "cell_type": "markdown",
      "metadata": {
        "id": "kPNpzNYwkKAO"
      },
      "source": [
        "# Funções de Ordenação\n",
        "\n",
        "> Utilize este espaço para definir as funções de ordenação.\n",
        "\n"
      ]
    },
    {
      "cell_type": "markdown",
      "metadata": {
        "id": "nEw1UEsmoKMg"
      },
      "source": [
        "##  Insertion Sort\n"
      ]
    },
    {
      "cell_type": "code",
      "execution_count": null,
      "metadata": {
        "id": "kbOrhdB-j_px"
      },
      "outputs": [],
      "source": [
        "def insertionSort(A):\n",
        "  for j in range (1, len(A)):\n",
        "    chave = A[j]\n",
        "    i = j - 1\n",
        "    while i >= 0 and A[i] > chave:\n",
        "      A[i + 1] = A[i]\n",
        "      i = i - 1\n",
        "    A[i + 1] = chave\n",
        "  return A"
      ]
    },
    {
      "cell_type": "markdown",
      "metadata": {
        "id": "9a-wJwU-wtmQ"
      },
      "source": [
        "##  Merge Sort\n"
      ]
    },
    {
      "cell_type": "code",
      "execution_count": null,
      "metadata": {
        "id": "8cgIJ_4EwbPN"
      },
      "outputs": [],
      "source": [
        "def mergeSort(A):\n",
        "    if len(A) > 1:\n",
        "        meio = len(A) // 2\n",
        "        esquerda = A[:meio]\n",
        "        direita = A[meio:]\n",
        "\n",
        "        mergeSort(esquerda)\n",
        "        mergeSort(direita)\n",
        "\n",
        "        i = 0\n",
        "        j = 0\n",
        "        \n",
        "        k = 0\n",
        "        \n",
        "        while i < len(esquerda) and j < len(direita):\n",
        "            if esquerda[i] <= direita[j]:\n",
        "              A[k] = esquerda[i]\n",
        "              i += 1\n",
        "            else:\n",
        "                A[k] = direita[j]\n",
        "                j += 1\n",
        "            k += 1\n",
        "\n",
        "        while i < len(esquerda):\n",
        "            A[k] = esquerda[i]\n",
        "            i += 1\n",
        "            k += 1\n",
        "\n",
        "        while j < len(direita):\n",
        "            A[k]=direita[j]\n",
        "            j += 1\n",
        "            k += 1\n",
        "            \n",
        "        return A"
      ]
    },
    {
      "cell_type": "markdown",
      "metadata": {
        "id": "8dWpeYUvw-wU"
      },
      "source": [
        "##  Selection Sort\n"
      ]
    },
    {
      "cell_type": "code",
      "execution_count": null,
      "metadata": {
        "id": "vNgUDShawygu"
      },
      "outputs": [],
      "source": [
        "def selectionSort(A):\n",
        "    for i in range(len(A)):\n",
        "        minimo = i\n",
        " \n",
        "        for j in range(i + 1, len(A)):\n",
        "            if A[j] < A[minimo]:\n",
        "                minimo = j\n",
        "\n",
        "        A[i], A[minimo] = A[minimo], A[i]\n",
        "  \n",
        "    return A"
      ]
    },
    {
      "cell_type": "markdown",
      "metadata": {
        "id": "zNI1kX0yyDrs"
      },
      "source": [
        "##  Bubble Sort\n"
      ]
    },
    {
      "cell_type": "code",
      "execution_count": null,
      "metadata": {
        "id": "6X_zk1yWxMQS"
      },
      "outputs": [],
      "source": [
        "def bubbleSort(A):\n",
        "    n = len(A)\n",
        " \n",
        "    for i in range(n):\n",
        " \n",
        "        for j in range(0, n-i-1):\n",
        "            if A[j] > A[j+1]:\n",
        "                A[j], A[j+1] = A[j+1], A[j]\n",
        "  \n",
        "    return A"
      ]
    },
    {
      "cell_type": "markdown",
      "metadata": {
        "id": "vk4vOTkKyLB-"
      },
      "source": [
        "## Heap Sort"
      ]
    },
    {
      "cell_type": "code",
      "execution_count": null,
      "metadata": {
        "id": "39a7xXzLyH9g"
      },
      "outputs": [],
      "source": [
        "def heapify(A, n, i):\n",
        "    maior = i\n",
        "    l = 2 * i + 1\n",
        "    r = 2 * i + 2\n",
        "  \n",
        "    if l < n and A[i] < A[l]:\n",
        "        maior = l\n",
        "  \n",
        "    if r < n and A[maior] < A[r]:\n",
        "        maior = r\n",
        "  \n",
        "    if maior != i:\n",
        "        A[i], A[maior] = A[maior], A[i]\n",
        "        heapify(A, n, maior)\n",
        "\n",
        "def heapSort(A):\n",
        "    n = len(A)\n",
        " \n",
        "    for i in range(n // 2 - 1, -1, -1):\n",
        "        heapify(A, n, i)\n",
        " \n",
        "    for i in range(n - 1, 0, -1):\n",
        "        (A[i], A[0]) = (A[0], A[i])\n",
        "        heapify(A, i, 0)\n",
        "  \n",
        "    return A"
      ]
    },
    {
      "cell_type": "markdown",
      "metadata": {
        "id": "fFiGho5CyU3t"
      },
      "source": [
        "## Quick Sort com pivo sendo o ultimo elemento do Arranjo\n",
        "\n",
        "> pivo = *A[A-comprimento]*"
      ]
    },
    {
      "cell_type": "code",
      "execution_count": null,
      "metadata": {
        "id": "1Ie_N5CRyKY7"
      },
      "outputs": [],
      "source": [
        "def partition(A, começo, fim):\n",
        "  pivo = A[fim]\n",
        "\n",
        "  i = começo - 1\n",
        "\n",
        "  for j in range(começo, fim):\n",
        "    if A[j] <= pivo:\n",
        "      i = i + 1\n",
        "      A[i], A[j] = A[j], A[i]\n",
        "\n",
        "  A[i + 1], A[fim] = A[fim], A[i + 1]\n",
        "\n",
        "  return i + 1\n",
        "\n",
        "def quickSort(A, começo, fim):\n",
        "\n",
        "  if começo < fim:\n",
        "    pivo = partition(A, começo, fim)\n",
        "    quickSort(A, começo, pivo - 1)\n",
        "    quickSort(A, pivo + 1, fim)\n",
        "\n",
        "    return A"
      ]
    },
    {
      "cell_type": "markdown",
      "metadata": {
        "id": "VomdAnCrzEv1"
      },
      "source": [
        "# Questões"
      ]
    },
    {
      "cell_type": "markdown",
      "metadata": {
        "id": "3QKV979kzItD"
      },
      "source": [
        "\n",
        "\n",
        "1.   Escolha pelo menos 3 Arranjos. Ex: ***A[5,...,1000,...,100]*** e mostre o funcionamento dos Algoritmos realizando a ordenação.\n",
        "\n",
        "\n",
        "\n"
      ]
    },
    {
      "cell_type": "markdown",
      "source": [
        "### Insertion Sort"
      ],
      "metadata": {
        "id": "YoQryHoyie8k"
      }
    },
    {
      "cell_type": "code",
      "source": [
        "insertionSort([993, 41, 593, 226, 4110, 580])"
      ],
      "metadata": {
        "colab": {
          "base_uri": "https://localhost:8080/"
        },
        "id": "coEqVrAJivtr",
        "outputId": "fb7f425d-436c-4a41-9491-496fe5149c91"
      },
      "execution_count": null,
      "outputs": [
        {
          "output_type": "execute_result",
          "data": {
            "text/plain": [
              "[41, 226, 580, 593, 993, 4110]"
            ]
          },
          "metadata": {},
          "execution_count": 15
        }
      ]
    },
    {
      "cell_type": "code",
      "source": [
        "insertionSort([3, 1, 9, 6, 4, 8])"
      ],
      "metadata": {
        "colab": {
          "base_uri": "https://localhost:8080/"
        },
        "id": "igIQ1RVRivjr",
        "outputId": "ea858aea-170f-4c54-a634-cdceece2f101"
      },
      "execution_count": null,
      "outputs": [
        {
          "output_type": "execute_result",
          "data": {
            "text/plain": [
              "[1, 3, 4, 6, 8, 9]"
            ]
          },
          "metadata": {},
          "execution_count": 16
        }
      ]
    },
    {
      "cell_type": "code",
      "source": [
        "insertionSort([31, 41, 59, 26, 41, 58])\n"
      ],
      "metadata": {
        "colab": {
          "base_uri": "https://localhost:8080/"
        },
        "id": "LwiWYufUiepj",
        "outputId": "cb0d5bb5-0e9a-4171-bc49-0f2bfe53391a"
      },
      "execution_count": null,
      "outputs": [
        {
          "output_type": "execute_result",
          "data": {
            "text/plain": [
              "[26, 31, 41, 41, 58, 59]"
            ]
          },
          "metadata": {},
          "execution_count": 17
        }
      ]
    },
    {
      "cell_type": "markdown",
      "source": [
        "### Merge Sort"
      ],
      "metadata": {
        "id": "0N_TX5W1dnyp"
      }
    },
    {
      "cell_type": "code",
      "source": [
        "mergeSort([17, 53, 2, 4, 2, 16, 84, 1])"
      ],
      "metadata": {
        "colab": {
          "base_uri": "https://localhost:8080/"
        },
        "id": "k4Ou9XJUndE2",
        "outputId": "276f557a-e5b4-48da-f6e2-f9f4ad8bbdf0"
      },
      "execution_count": null,
      "outputs": [
        {
          "output_type": "execute_result",
          "data": {
            "text/plain": [
              "[1, 2, 2, 4, 16, 17, 53, 84]"
            ]
          },
          "metadata": {},
          "execution_count": 5
        }
      ]
    },
    {
      "cell_type": "code",
      "source": [
        "mergeSort([9, 9, 3, 6, 20, 5, 100, 10, 3])"
      ],
      "metadata": {
        "colab": {
          "base_uri": "https://localhost:8080/"
        },
        "id": "p9QNnrGrnc02",
        "outputId": "68d202e7-77e6-4ac9-9b32-f7606397c807"
      },
      "execution_count": null,
      "outputs": [
        {
          "output_type": "execute_result",
          "data": {
            "text/plain": [
              "[3, 3, 5, 6, 9, 9, 10, 20, 100]"
            ]
          },
          "metadata": {},
          "execution_count": 6
        }
      ]
    },
    {
      "cell_type": "code",
      "source": [
        "mergeSort([7, 3, 5, 6, 2, 1, 8, 10])"
      ],
      "metadata": {
        "id": "N8Gxv8N1dr_a",
        "colab": {
          "base_uri": "https://localhost:8080/"
        },
        "outputId": "ba4f56c1-4a95-401e-e21f-1e678da44c8a"
      },
      "execution_count": null,
      "outputs": [
        {
          "output_type": "execute_result",
          "data": {
            "text/plain": [
              "[1, 2, 3, 5, 6, 7, 8, 10]"
            ]
          },
          "metadata": {},
          "execution_count": 7
        }
      ]
    },
    {
      "cell_type": "markdown",
      "source": [
        "### Selection Sort"
      ],
      "metadata": {
        "id": "JjjsQ-wVn-Pt"
      }
    },
    {
      "cell_type": "code",
      "source": [
        "selectionSort([75, 310, 510, 156, 492, 431, 826, 100])"
      ],
      "metadata": {
        "colab": {
          "base_uri": "https://localhost:8080/"
        },
        "id": "nWy7YNOHoCPl",
        "outputId": "4805c0e0-ed63-4385-ff98-3d38a9ad0e77"
      },
      "execution_count": null,
      "outputs": [
        {
          "output_type": "execute_result",
          "data": {
            "text/plain": [
              "[75, 100, 156, 310, 431, 492, 510, 826]"
            ]
          },
          "metadata": {},
          "execution_count": 18
        }
      ]
    },
    {
      "cell_type": "code",
      "source": [
        "selectionSort([5, 0, 1, 5, 4, 3, 26, 10])"
      ],
      "metadata": {
        "colab": {
          "base_uri": "https://localhost:8080/"
        },
        "id": "LBKa_wZyoCO1",
        "outputId": "175dfc54-a0a9-42c3-dec9-6ab2532dd0fb"
      },
      "execution_count": null,
      "outputs": [
        {
          "output_type": "execute_result",
          "data": {
            "text/plain": [
              "[0, 1, 3, 4, 5, 5, 10, 26]"
            ]
          },
          "metadata": {},
          "execution_count": 19
        }
      ]
    },
    {
      "cell_type": "code",
      "source": [
        "selectionSort([25, 10, 51, 15, 42, 31, 26, 0])"
      ],
      "metadata": {
        "colab": {
          "base_uri": "https://localhost:8080/"
        },
        "id": "xO6rJV6GoCHn",
        "outputId": "b4fe4116-3ca4-449b-e665-40c112e8bc66"
      },
      "execution_count": null,
      "outputs": [
        {
          "output_type": "execute_result",
          "data": {
            "text/plain": [
              "[0, 10, 15, 25, 26, 31, 42, 51]"
            ]
          },
          "metadata": {},
          "execution_count": 20
        }
      ]
    },
    {
      "cell_type": "markdown",
      "source": [
        "### Bubble Sort"
      ],
      "metadata": {
        "id": "16zTA5tNoej2"
      }
    },
    {
      "cell_type": "code",
      "source": [
        "bubbleSort([65, 3, 10, 15, 42, 17, 13, 1])"
      ],
      "metadata": {
        "colab": {
          "base_uri": "https://localhost:8080/"
        },
        "id": "k44o-vVhogY-",
        "outputId": "ce187d6e-0f68-4df5-f753-ca3244359706"
      },
      "execution_count": null,
      "outputs": [
        {
          "output_type": "execute_result",
          "data": {
            "text/plain": [
              "[1, 3, 10, 13, 15, 17, 42, 65]"
            ]
          },
          "metadata": {},
          "execution_count": 21
        }
      ]
    },
    {
      "cell_type": "code",
      "source": [
        "bubbleSort([0, 9, 110, 1, 75, 33, 243, 12])\n"
      ],
      "metadata": {
        "colab": {
          "base_uri": "https://localhost:8080/"
        },
        "id": "Ei3kRkSpohIG",
        "outputId": "893f9510-c379-4869-eca4-700ef41d2742"
      },
      "execution_count": null,
      "outputs": [
        {
          "output_type": "execute_result",
          "data": {
            "text/plain": [
              "[0, 1, 9, 12, 33, 75, 110, 243]"
            ]
          },
          "metadata": {},
          "execution_count": 22
        }
      ]
    },
    {
      "cell_type": "code",
      "source": [
        "bubbleSort([38, 15, 0, 5, 74, 3, 17, 3])\n"
      ],
      "metadata": {
        "colab": {
          "base_uri": "https://localhost:8080/"
        },
        "id": "huhADGUOog9e",
        "outputId": "58e053fd-8252-4882-c885-688f63decc67"
      },
      "execution_count": null,
      "outputs": [
        {
          "output_type": "execute_result",
          "data": {
            "text/plain": [
              "[0, 3, 3, 5, 15, 17, 38, 74]"
            ]
          },
          "metadata": {},
          "execution_count": 23
        }
      ]
    },
    {
      "cell_type": "markdown",
      "source": [
        "### Heap Sort"
      ],
      "metadata": {
        "id": "Rt0ALwMHo3AW"
      }
    },
    {
      "cell_type": "code",
      "source": [
        "heapSort([11, 85, 49, 356, 245, 226, 132, 10])\n"
      ],
      "metadata": {
        "colab": {
          "base_uri": "https://localhost:8080/"
        },
        "id": "Oj4yFjpRo59F",
        "outputId": "a2e74f29-1ce2-425c-dbb7-6b35e06f6245"
      },
      "execution_count": null,
      "outputs": [
        {
          "output_type": "execute_result",
          "data": {
            "text/plain": [
              "[10, 11, 49, 85, 132, 226, 245, 356]"
            ]
          },
          "metadata": {},
          "execution_count": 24
        }
      ]
    },
    {
      "cell_type": "code",
      "source": [
        "heapSort([5, 9, 1, 0, 9, 5, 1, 0])"
      ],
      "metadata": {
        "colab": {
          "base_uri": "https://localhost:8080/"
        },
        "id": "dNbDs99Mo51t",
        "outputId": "2f7ca5b7-ca90-45d4-d408-d1f96a8e2ec3"
      },
      "execution_count": null,
      "outputs": [
        {
          "output_type": "execute_result",
          "data": {
            "text/plain": [
              "[0, 0, 1, 1, 5, 5, 9, 9]"
            ]
          },
          "metadata": {},
          "execution_count": 25
        }
      ]
    },
    {
      "cell_type": "code",
      "source": [
        "heapSort([11, 22, 22, 11, 222, 22, 11, 3])"
      ],
      "metadata": {
        "colab": {
          "base_uri": "https://localhost:8080/"
        },
        "id": "lWqREAuto5Pd",
        "outputId": "bbc3891d-e4ea-483b-dea1-d6ed54b08162"
      },
      "execution_count": null,
      "outputs": [
        {
          "output_type": "execute_result",
          "data": {
            "text/plain": [
              "[3, 11, 11, 11, 22, 22, 22, 222]"
            ]
          },
          "metadata": {},
          "execution_count": 26
        }
      ]
    },
    {
      "cell_type": "markdown",
      "source": [
        "### Quick Sort"
      ],
      "metadata": {
        "id": "flD7VAcRpLTl"
      }
    },
    {
      "cell_type": "code",
      "source": [
        "A = [13, 56, 43, 46, 56, 343, 123, 123]\n",
        "quickSort(A, 0 , len(A) - 1)"
      ],
      "metadata": {
        "colab": {
          "base_uri": "https://localhost:8080/"
        },
        "id": "goHI14nCpNUl",
        "outputId": "839b602c-22ca-47d7-9923-0008d8c7db4f"
      },
      "execution_count": null,
      "outputs": [
        {
          "output_type": "execute_result",
          "data": {
            "text/plain": [
              "[13, 43, 46, 56, 56, 123, 123, 343]"
            ]
          },
          "metadata": {},
          "execution_count": 31
        }
      ]
    },
    {
      "cell_type": "code",
      "source": [
        "A = [435, 24242, 4533, 43, 454, 312, 987, 13]\n",
        "quickSort(A, 0 , len(A) - 1)"
      ],
      "metadata": {
        "colab": {
          "base_uri": "https://localhost:8080/"
        },
        "id": "1bNXFRDepNvN",
        "outputId": "bc13fe8f-4aed-40ff-fed3-f1ee74ddf270"
      },
      "execution_count": null,
      "outputs": [
        {
          "output_type": "execute_result",
          "data": {
            "text/plain": [
              "[13, 43, 312, 435, 454, 987, 4533, 24242]"
            ]
          },
          "metadata": {},
          "execution_count": 32
        }
      ]
    },
    {
      "cell_type": "code",
      "source": [
        "A = [34, 45, 53, 42, 15, 28, 37, 48]\n",
        "quickSort(A, 0 , len(A) - 1)"
      ],
      "metadata": {
        "colab": {
          "base_uri": "https://localhost:8080/"
        },
        "id": "s8ROlhdLpNjl",
        "outputId": "83fc58dd-1a81-4064-b09a-61b0ae40689a"
      },
      "execution_count": null,
      "outputs": [
        {
          "output_type": "execute_result",
          "data": {
            "text/plain": [
              "[15, 28, 34, 37, 42, 45, 48, 53]"
            ]
          },
          "metadata": {},
          "execution_count": 33
        }
      ]
    }
  ],
  "metadata": {
    "colab": {
      "collapsed_sections": [
        "J3d6JlRUxREN"
      ],
      "provenance": [],
      "include_colab_link": true
    },
    "kernelspec": {
      "display_name": "Python 3",
      "name": "python3"
    },
    "language_info": {
      "name": "python"
    }
  },
  "nbformat": 4,
  "nbformat_minor": 0
}